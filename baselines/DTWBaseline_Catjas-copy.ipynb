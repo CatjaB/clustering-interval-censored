{
 "cells": [
  {
   "cell_type": "markdown",
   "metadata": {},
   "source": [
    "# Implement Dynamic Time Warping Baseline\n",
    "\n",
    "https://tslearn.readthedocs.io/en/stable/variablelength.html#clustering\n",
    "\n",
    "https://tslearn.readthedocs.io/en/stable/user_guide/clustering.html#clustering"
   ]
  },
  {
   "cell_type": "code",
   "execution_count": 1,
   "metadata": {},
   "outputs": [
    {
     "name": "stderr",
     "output_type": "stream",
     "text": [
      "/Users/catja/opt/anaconda3/lib/python3.7/site-packages/tslearn/clustering/kmeans.py:17: UserWarning: Scikit-learn <0.24 will be deprecated in a future release of tslearn\n",
      "  \"Scikit-learn <0.24 will be deprecated in a \"\n"
     ]
    }
   ],
   "source": [
    "%matplotlib inline\n",
    "import matplotlib.pyplot as plt\n",
    "\n",
    "import numpy as np\n",
    "#CB: Pickle is used for serializing and de-serializing Python object structures\n",
    "import pickle\n",
    "\n",
    "\n",
    "def clean_plot():\n",
    "    #CB: 111 = 1 number of rows, 1 number of columns, 1 index of the subplot\n",
    "    ax = plt.subplot(111)    \n",
    "    #CB: the rest is for changing the appearance\n",
    "    ax.spines[\"top\"].set_visible(False)    \n",
    "    ax.spines[\"bottom\"].set_visible(False)    \n",
    "    ax.spines[\"right\"].set_visible(False)    \n",
    "    ax.spines[\"left\"].set_visible(False)    \n",
    "    \n",
    "    ax.get_xaxis().tick_bottom()    \n",
    "    ax.get_yaxis().tick_left()   \n",
    "    plt.grid()\n",
    "\n",
    "#CB: Backend Management, to change the default values and styling\n",
    "import matplotlib.pylab as pylab\n",
    "params = {'legend.fontsize': 'x-large',\n",
    "         'axes.labelsize': 'x-large',\n",
    "         'axes.titlesize':'x-large',\n",
    "         'xtick.labelsize':'x-large',\n",
    "         'ytick.labelsize':'x-large'}\n",
    "pylab.rcParams.update(params)\n",
    "\n",
    "from tslearn.clustering import TimeSeriesKMeans, KernelKMeans\n",
    "from tslearn.utils import to_time_series_dataset\n",
    "from sklearn.metrics import adjusted_rand_score"
   ]
  },
  {
   "cell_type": "code",
   "execution_count": 2,
   "metadata": {},
   "outputs": [
    {
     "name": "stdout",
     "output_type": "stream",
     "text": [
      "Requirement already satisfied: pyro-ppl in /Users/catja/opt/anaconda3/lib/python3.7/site-packages (1.8.1)\n",
      "Requirement already satisfied: torch>=1.11.0 in /Users/catja/opt/anaconda3/lib/python3.7/site-packages (from pyro-ppl) (1.12.0)\n",
      "Requirement already satisfied: pyro-api>=0.1.1 in /Users/catja/opt/anaconda3/lib/python3.7/site-packages (from pyro-ppl) (0.1.2)\n",
      "Requirement already satisfied: opt-einsum>=2.3.2 in /Users/catja/opt/anaconda3/lib/python3.7/site-packages (from pyro-ppl) (3.3.0)\n",
      "Requirement already satisfied: numpy>=1.7 in /Users/catja/opt/anaconda3/lib/python3.7/site-packages (from pyro-ppl) (1.19.5)\n",
      "Requirement already satisfied: tqdm>=4.36 in /Users/catja/opt/anaconda3/lib/python3.7/site-packages (from pyro-ppl) (4.42.1)\n",
      "Requirement already satisfied: typing_extensions in /Users/catja/opt/anaconda3/lib/python3.7/site-packages (from torch>=1.11.0->pyro-ppl) (4.1.1)\n",
      "Note: you may need to restart the kernel to use updated packages.\n"
     ]
    }
   ],
   "source": [
    "pip install pyro-ppl"
   ]
  },
  {
   "cell_type": "code",
   "execution_count": 3,
   "metadata": {},
   "outputs": [],
   "source": [
    "import Pyro4 as pyro"
   ]
  },
  {
   "cell_type": "code",
   "execution_count": 4,
   "metadata": {},
   "outputs": [],
   "source": [
    "import logging\n",
    "\n",
    "#CB: PyTorch is an open source machine learning framework based on the Torch library, \n",
    "#used for applications such as computer vision and natural language processing, primarily developed \n",
    "#by Meta AI.\n",
    "import torch\n",
    "import torch.nn as nn\n",
    "import torch.nn.functional as F\n",
    "\n",
    "from pyro.distributions import MultivariateNormal, Normal, Independent\n",
    "\n",
    "from sklearn.cluster import KMeans, SpectralClustering\n",
    "from sklearn.metrics import adjusted_rand_score\n",
    "\n",
    "#CB: SciPy is a free and open-source Python library used for scientific computing and technical computing.\n",
    "import scipy\n",
    "from scipy.sparse import csgraph\n",
    "from scipy.sparse.linalg import eigsh\n"
   ]
  },
  {
   "cell_type": "code",
   "execution_count": 5,
   "metadata": {},
   "outputs": [
    {
     "name": "stdout",
     "output_type": "stream",
     "text": [
      "Max visits: 17\n",
      "Max visits: 17\n"
     ]
    }
   ],
   "source": [
    "import argparse\n",
    "import os\n",
    "import sys\n",
    "sys.path.append('../data')\n",
    "sys.path.append('../plot')\n",
    "from load import sigmoid, quadratic, chf, parkinsons, load_data_format, load_synthetic_data, load_sigmoid_data\n",
    "from data_utils import parse_data, change_missing\n",
    "\n",
    "from plot_utils import plot_subtypes, plot_latent\n",
    "\n",
    "data_format_num = 11\n",
    "\n",
    "max_visits      = 17\n",
    "num_output_dims = 3\n",
    "use_sigmoid     = True\n",
    "epochs          = 100\n",
    "\n",
    "# Change configurations here\n",
    "\n",
    "# DOES NOT work\n",
    "# C, ds, dh, drnn, reg_type, lr = 0.0, 20, 30, 150, 'l1', 0.1\n",
    "\n",
    "# DOES work\n",
    "C, ds, dh, drnn, reg_type, lr = 0.0, 20, 30, 150, 'l1', 0.001\n",
    "\n",
    "configs = (C, ds, dh, drnn, reg_type, lr)\n",
    "\n",
    "data    = load_data_format(data_format_num, trial_num=0, cache=True)\n",
    "\n",
    "shuffle = False\n",
    "\n",
    "train_data_loader, train_data_dict, _, _, test_data_loader, test_data_dict, valid_pid, test_pid, unique_pid = parse_data(data.values, \n",
    "                                                                                                                         max_visits=max_visits, \n",
    "                                                                                                                         test_per=0.2, valid_per=0.2, \n",
    "                                                                                                                         shuffle=shuffle)\n",
    "data_loader, collect_dict, unique_pid = parse_data(data.values, max_visits=max_visits)\n"
   ]
  },
  {
   "cell_type": "markdown",
   "metadata": {},
   "source": [
    "## Bring in dynamic time warping!"
   ]
  },
  {
   "cell_type": "code",
   "execution_count": 6,
   "metadata": {},
   "outputs": [],
   "source": [
    "import sys\n",
    "sys.path.append('../model')\n",
    "from utils import interpolate"
   ]
  },
  {
   "cell_type": "code",
   "execution_count": 7,
   "metadata": {},
   "outputs": [
    {
     "name": "stdout",
     "output_type": "stream",
     "text": [
      "Max visits: 17\n",
      "Test ARI: -0.0032\n",
      "Max visits: 17\n",
      "Test ARI: -0.0001\n",
      "Max visits: 17\n",
      "Test ARI: -0.0034\n",
      "Max visits: 17\n",
      "Test ARI: 0.0207\n",
      "Max visits: 17\n",
      "Test ARI: 0.0031\n",
      "Data 12, softdtw, mrnn: 0.003 $\\pm$ 0.009\n",
      "CPU times: user 2min 16s, sys: 695 ms, total: 2min 16s\n",
      "Wall time: 2min 18s\n"
     ]
    }
   ],
   "source": [
    "%%time\n",
    "\n",
    "# for trial_num in range(5):\n",
    "data_format_num = 12\n",
    "\n",
    "\n",
    "results = []\n",
    "\n",
    "for trial_num in range(1,6):\n",
    "    data    = load_data_format(data_format_num, trial_num=trial_num)\n",
    "    shuffle = False\n",
    "\n",
    "    train_data_loader, train_data_dict, _, _, test_data_loader, test_data_dict, valid_pid, test_pid, unique_pid = parse_data(data.values, \n",
    "                                                                                                                             max_visits=max_visits, \n",
    "                                                                                                                             test_per=0.2, valid_per=0.2, \n",
    "                                                                                                                             shuffle=shuffle)\n",
    "\n",
    "    km = KernelKMeans(n_clusters=2)\n",
    "    metric = 'softdtw'\n",
    "    how_impute = 'mrnn'\n",
    "\n",
    "    km = TimeSeriesKMeans(n_clusters=2, metric=metric)\n",
    "\n",
    "    X_train = train_data_dict['Y_collect']\n",
    "    X_test  = test_data_dict['Y_collect']\n",
    "\n",
    "    M_train = train_data_dict['mask_collect']\n",
    "    T_train = train_data_dict['obs_t_collect']\n",
    "    \n",
    "    M_test  = test_data_dict['mask_collect']\n",
    "    T_test  = test_data_dict['obs_t_collect']\n",
    "\n",
    "    X_train = np.concatenate([X_train,train_data_dict['obs_t_collect']],axis=2)\n",
    "\n",
    "    y_train = train_data_dict['s_collect']\n",
    "\n",
    "    X_test = np.concatenate([X_test,test_data_dict['obs_t_collect']],axis=2)\n",
    "    y_test = test_data_dict['s_collect']\n",
    "\n",
    "    km.fit(X_train)\n",
    "    labels_test = km.predict(X_test)\n",
    "\n",
    "    test_ari = adjusted_rand_score(np.squeeze(y_test), labels_test)\n",
    "    print('Test ARI: %.4f' % test_ari)\n",
    "    results.append(test_ari)\n",
    "\n",
    "print('Data %d, %s, %s: %.3f $\\\\pm$ %.3f' % (data_format_num, metric, how_impute, np.mean(results), np.std(results)))"
   ]
  },
  {
   "cell_type": "code",
   "execution_count": null,
   "metadata": {},
   "outputs": [],
   "source": []
  },
  {
   "cell_type": "code",
   "execution_count": null,
   "metadata": {},
   "outputs": [],
   "source": [
    "#CB: Where are these numbers from and why are there numbers and not the results used from last cell?\n",
    "results = np.array([[0.960, 0.098, 0.457],\n",
    " [0.980, -0.096, 0.535],\n",
    " [1.000, 0.170, 0.447 ]])"
   ]
  },
  {
   "cell_type": "code",
   "execution_count": null,
   "metadata": {},
   "outputs": [],
   "source": [
    "for i, j in zip(results.mean(axis=0), results.std(axis=0)):\n",
    "    print('%.3f $\\\\pm$ %.3f' % (i,j),)"
   ]
  },
  {
   "cell_type": "code",
   "execution_count": null,
   "metadata": {},
   "outputs": [],
   "source": [
    "#CB: check if there are any empty values\n",
    "np.isnan(X_train).any()"
   ]
  },
  {
   "cell_type": "code",
   "execution_count": null,
   "metadata": {},
   "outputs": [],
   "source": [
    "#CB: fill empyt values with the mean\n",
    "def fill_nan_with_mean(a):\n",
    "    a[a == -1000] = None\n",
    "    return np.where(np.isnan(a), np.ma.array(a, mask=np.isnan(a)).mean(axis=0), a)"
   ]
  },
  {
   "cell_type": "code",
   "execution_count": null,
   "metadata": {},
   "outputs": [],
   "source": [
    "#CB: execute last function\n",
    "fill_nan_with_mean(X_train)"
   ]
  },
  {
   "cell_type": "code",
   "execution_count": null,
   "metadata": {},
   "outputs": [],
   "source": [
    "np.linspace(3,100,20)"
   ]
  },
  {
   "cell_type": "code",
   "execution_count": null,
   "metadata": {},
   "outputs": [],
   "source": [
    "np.zeros(20)"
   ]
  },
  {
   "cell_type": "code",
   "execution_count": null,
   "metadata": {},
   "outputs": [],
   "source": [
    "# time series kmeans\n",
    "import time\n",
    "\n",
    "start = time.time()\n",
    "\n",
    "#CB: import class Sublign\n",
    "sys.path.append('../model')\n",
    "from models import Sublign\n",
    "\n",
    "# for trial_num in range(5):\n",
    "trial_num = 0\n",
    "epochs          = 1000\n",
    "\n",
    "N_visit_options = [2,4,6,8,10,12,14,16,18,20]\n",
    "results_data = np.zeros((len(N_visit_options), 4))\n",
    "\n",
    "for visits_ix, N_visits_float in enumerate(N_visit_options):\n",
    "    end = time.time()\n",
    "    print(visits_ix,end - start)\n",
    "    \n",
    "    N_visits = int(N_visits_float)\n",
    "\n",
    "    \n",
    "    data = load_sigmoid_data(subtypes=2, F=3, N=1000, M=N_visits, noise=0.25)\n",
    "\n",
    "    shuffle = False\n",
    "\n",
    "    train_data_loader, train_data_dict, _, _, test_data_loader, test_data_dict, valid_pid, test_pid, unique_pid = parse_data(data.values, \n",
    "                                                                                                                           max_visits=N_visits, \n",
    "                                                                                                                             test_per=0.2, valid_per=0.2, \n",
    "                                                                                                                           shuffle=shuffle)\n",
    "    \n",
    "    model = Sublign(ds, dh, drnn, C, num_output_dims, sigmoid=use_sigmoid, reg_type=reg_type, auto_delta=False, \n",
    "                max_delta=5, learn_time=True)\n",
    "\n",
    "    model.fit(train_data_loader, test_data_loader, epochs, lr, verbose=False, \n",
    "              fname='data%d.pt' % (data_format_num), eval_freq=25, epoch_debug=False, \n",
    "              plot_debug=False)\n",
    "\n",
    "\n",
    "    subtypes = model.get_subtypes(train_data_dict['obs_t_collect'], train_data_dict['Y_collect'], K=2)\n",
    "\n",
    "    test_results  = model.score(train_data_dict, test_data_dict)\n",
    "    results_data[visits_ix,3] = test_results['ari']\n",
    "    \n",
    "    for metric_num, metric in enumerate(['softdtw', 'dtw', 'euclidean']):\n",
    "\n",
    "        km = TimeSeriesKMeans(n_clusters=2, metric=metric)\n",
    "\n",
    "        X_train = np.concatenate([train_data_dict['Y_collect'],train_data_dict['obs_t_collect']],axis=2)\n",
    "        y_train = train_data_dict['s_collect']\n",
    "\n",
    "        X_test = np.concatenate([test_data_dict['Y_collect'],test_data_dict['obs_t_collect']],axis=2)\n",
    "        y_test = test_data_dict['s_collect']\n",
    "\n",
    "        km.fit(X_train)\n",
    "        labels_test = km.predict(X_test)\n",
    "\n",
    "        test_ari = adjusted_rand_score(np.squeeze(y_test), labels_test)\n",
    "\n",
    "        results_data[visits_ix,metric_num] = test_ari"
   ]
  },
  {
   "cell_type": "code",
   "execution_count": null,
   "metadata": {},
   "outputs": [],
   "source": [
    "N_visit_options"
   ]
  },
  {
   "cell_type": "code",
   "execution_count": null,
   "metadata": {},
   "outputs": [],
   "source": [
    "#CB: Visualisation\n",
    "clean_plot()\n",
    "\n",
    "\n",
    "xs = N_visit_options\n",
    "\n",
    "for metric_num, metric in enumerate(['softdtw', 'dtw', 'euclidean', 'sublign']):\n",
    "    ys = results_data[:,metric_num]\n",
    "    plt.plot(xs[:7], ys[:7], label=metric)\n",
    "\n",
    "plt.xlabel('Visits Per Person')\n",
    "plt.ylabel('Held-out Cluster Performance (ARI)')\n",
    "plt.legend()\n",
    "plt.show()"
   ]
  },
  {
   "cell_type": "code",
   "execution_count": null,
   "metadata": {},
   "outputs": [],
   "source": [
    "#CB: @Q why just random values or where are they from? Also there never used again, so maybe just a check of sorts?\n",
    "kmeans_mean = np.mean([0.0205, 0.0072, 0.0050, -0.0046, -0.0025])\n",
    "kmeans_std = np.std([0.0205, 0.0072, 0.0050, -0.0046, -0.0025])\n",
    "\n",
    "print('%.4f $\\\\pm$ %.2f' % (kmeans_mean, kmeans_std))"
   ]
  },
  {
   "cell_type": "code",
   "execution_count": null,
   "metadata": {},
   "outputs": [],
   "source": [
    "labels_test.shape"
   ]
  },
  {
   "cell_type": "markdown",
   "metadata": {},
   "source": [
    "## Compare for higher percentage of missingness"
   ]
  },
  {
   "cell_type": "code",
   "execution_count": null,
   "metadata": {},
   "outputs": [],
   "source": [
    "\n",
    "data = load_data_format(13, trial_num=1)\n",
    "    \n",
    "train_data_loader, train_data_dict, _, _, test_data_loader, test_data_dict, valid_pid, test_pid, unique_pid = parse_data(data.values, \n",
    "                                                                                                                     max_visits=max_visits, \n"
   ]
  },
  {
   "cell_type": "code",
   "execution_count": null,
   "metadata": {},
   "outputs": [],
   "source": [
    "\n",
    "\n",
    "# time series kmeans\n",
    "import time\n",
    "\n",
    "start = time.time()\n",
    "\n",
    "# for trial_num in range(5):\n",
    "trial_num = 0\n",
    "epochs          = 1000\n",
    "\n",
    "#CB: different options here\n",
    "N_visit_options = [1,1,1,1]\n",
    "results_data = np.zeros((len(N_visit_options), 4))\n",
    "\n",
    "for visits_ix, N_visits_float in enumerate(N_visit_options):\n",
    "    end = time.time()\n",
    "    print(visits_ix,end - start)\n",
    "    \n",
    "    N_visits = int(N_visits_float)\n",
    "\n",
    "\n",
    "    data    = load_data_format(data_format_num=11, trial_num=trial_num, cache=True)\n",
    "    shuffle = False\n",
    "\n",
    "    train_data_loader, train_data_dict, _, _, test_data_loader, test_data_dict, valid_pid, test_pid, unique_pid = parse_data(data.values, \n",
    "                                                                                                                           max_visits=N_visits, \n",
    "                                                                                                                             test_per=0.2, valid_per=0.2, \n",
    "                                                                                                                           shuffle=shuffle)\n",
    "\n",
    "    \n",
    "    for metric_num, metric in enumerate(['softdtw', 'dtw', 'euclidean']):\n",
    "\n",
    "        km = TimeSeriesKMeans(n_clusters=2, metric=metric)\n",
    "\n",
    "        \n",
    "        X_train = np.concatenate([train_data_dict['Y_collect'],train_data_dict['obs_t_collect']],axis=2)\n",
    "        y_train = train_data_dict['s_collect']\n",
    "\n",
    "        X_test = np.concatenate([test_data_dict['Y_collect'],test_data_dict['obs_t_collect']],axis=2)\n",
    "        y_test = test_data_dict['s_collect']\n",
    "\n",
    "\n",
    "        km.fit(X_train)\n",
    "        labels_test = km.predict(X_test)\n",
    "\n",
    "        test_ari = adjusted_rand_score(np.squeeze(y_test), labels_test)\n",
    "\n",
    "        results_data[visits_ix,metric_num] = test_ari"
   ]
  },
  {
   "cell_type": "code",
   "execution_count": null,
   "metadata": {},
   "outputs": [],
   "source": [
    "results_data"
   ]
  },
  {
   "cell_type": "code",
   "execution_count": null,
   "metadata": {},
   "outputs": [],
   "source": [
    "y_train.shape"
   ]
  },
  {
   "cell_type": "markdown",
   "metadata": {},
   "source": [
    "## PPMI DTW results?"
   ]
  },
  {
   "cell_type": "code",
   "execution_count": null,
   "metadata": {},
   "outputs": [],
   "source": [
    "#CB: import parkinson dataset\n",
    "sys.path.append('../data')\n",
    "from load import parkinsons"
   ]
  },
  {
   "cell_type": "code",
   "execution_count": null,
   "metadata": {},
   "outputs": [],
   "source": [
    "#CB: repeat methods, but this time on the parkinson dataset\n",
    "\n",
    "# time series kmeans\n",
    "import time\n",
    "\n",
    "start = time.time()\n",
    "\n",
    "# for trial_num in range(5):\n",
    "trial_num = 0\n",
    "epochs          = 1000\n",
    "\n",
    "\n",
    "N_visit_options = [1,1,1,1]\n",
    "results_data = np.zeros((len(N_visit_options), 4))\n",
    "\n",
    "data = parkinsons()\n",
    "shuffle = False\n",
    "\n",
    "train_data_loader, train_data_dict, _, _, test_data_loader, test_data_dict, valid_pid, test_pid, unique_pid = parse_data(data.values, \n",
    "                                                                                                                       max_visits=N_visits, \n",
    "                                                                                                                         test_per=0.2, valid_per=0.2, \n",
    "                                                                                                                       shuffle=shuffle)\n",
    "\n",
    "\n",
    "for visits_ix, N_visits_float in enumerate(N_visit_options):\n",
    "    end = time.time()\n",
    "    print(visits_ix,end - start)\n",
    "    \n",
    "    N_visits = int(N_visits_float)\n",
    "\n",
    "    \n",
    "    for metric_num, metric in enumerate(['softdtw', 'dtw', 'euclidean']):\n",
    "\n",
    "        km = TimeSeriesKMeans(n_clusters=2, metric=metric)\n",
    "\n",
    "        \n",
    "        X_train = np.concatenate([train_data_dict['Y_collect'],train_data_dict['obs_t_collect']],axis=2)\n",
    "        y_train = train_data_dict['s_collect']\n",
    "\n",
    "        X_test = np.concatenate([test_data_dict['Y_collect'],test_data_dict['obs_t_collect']],axis=2)\n",
    "        y_test = test_data_dict['s_collect']\n",
    "\n",
    "\n",
    "        km.fit(X_train)\n",
    "        labels_test = km.predict(X_test)\n",
    "\n",
    "        test_ari = adjusted_rand_score(np.squeeze(y_test), labels_test)\n",
    "\n",
    "        results_data[visits_ix,metric_num] = test_ari\n",
    "print(results_data)"
   ]
  },
  {
   "cell_type": "code",
   "execution_count": null,
   "metadata": {},
   "outputs": [],
   "source": []
  },
  {
   "cell_type": "code",
   "execution_count": null,
   "metadata": {},
   "outputs": [],
   "source": []
  },
  {
   "cell_type": "markdown",
   "metadata": {},
   "source": [
    "## Run DTW that works"
   ]
  },
  {
   "cell_type": "code",
   "execution_count": null,
   "metadata": {},
   "outputs": [],
   "source": []
  },
  {
   "cell_type": "code",
   "execution_count": null,
   "metadata": {},
   "outputs": [],
   "source": [
    "\n",
    "import numpy\n",
    "import matplotlib.pyplot as plt\n",
    "import matplotlib.colors\n",
    "\n",
    "from tslearn.preprocessing import TimeSeriesScalerMinMax\n",
    "from tslearn.barycenters import softdtw_barycenter\n",
    "from tslearn.datasets import CachedDatasets\n",
    "\n",
    "\n",
    "def row_col(position, n_cols=5):\n",
    "    idx_row = (position - 1) // n_cols\n",
    "    idx_col = position - n_cols * idx_row - 1\n",
    "    return idx_row, idx_col\n",
    "\n",
    "\n",
    "def get_color(weights):\n",
    "    baselines = numpy.zeros((4, 3))\n",
    "    weights = numpy.array(weights).reshape(1, 4)\n",
    "    for i, c in enumerate([\"r\", \"g\", \"b\", \"y\"]):\n",
    "        baselines[i] = matplotlib.colors.ColorConverter().to_rgb(c)\n",
    "    return numpy.dot(weights, baselines).ravel()\n",
    "\n",
    "\n",
    "numpy.random.seed(0)\n",
    "X_train, y_train, X_test, y_test = CachedDatasets().load_dataset(\"Trace\")\n",
    "X_out = numpy.empty((4, X_train.shape[1], X_train.shape[2]))\n",
    "\n",
    "\n",
    "#CB: Visualisation\n",
    "plt.figure()\n",
    "for i in range(4):\n",
    "    X_out[i] = X_train[y_train == (i + 1)][0]\n",
    "X_out = TimeSeriesScalerMinMax().fit_transform(X_out)\n",
    "\n",
    "for i, pos in enumerate([1, 5, 21, 25]):\n",
    "    plt.subplot(5, 5, pos)\n",
    "    w = [0.] * 4\n",
    "    w[i] = 1.\n",
    "    plt.plot(X_out[i].ravel(),\n",
    "             color=matplotlib.colors.rgb2hex(get_color(w)),\n",
    "             linewidth=2)\n",
    "    plt.text(X_out[i].shape[0], 0., \"$X_%d$\" % i,\n",
    "             horizontalalignment=\"right\",\n",
    "             verticalalignment=\"baseline\",\n",
    "             fontsize=24)\n",
    "    plt.xticks([])\n",
    "    plt.yticks([])\n",
    "\n",
    "\n",
    "plt.tight_layout()\n",
    "plt.show()\n"
   ]
  },
  {
   "cell_type": "code",
   "execution_count": null,
   "metadata": {},
   "outputs": [],
   "source": [
    "X_out.shape"
   ]
  },
  {
   "cell_type": "code",
   "execution_count": null,
   "metadata": {},
   "outputs": [],
   "source": []
  },
  {
   "cell_type": "code",
   "execution_count": null,
   "metadata": {},
   "outputs": [],
   "source": [
    "y_train.shape"
   ]
  },
  {
   "cell_type": "code",
   "execution_count": null,
   "metadata": {},
   "outputs": [],
   "source": [
    "REDACTED = softdtw_barycenter(X=X_out, weights=w).ravel()"
   ]
  },
  {
   "cell_type": "code",
   "execution_count": null,
   "metadata": {},
   "outputs": [],
   "source": [
    "REDACTED.shape"
   ]
  }
 ],
 "metadata": {
  "kernelspec": {
   "display_name": "Python 3",
   "language": "python",
   "name": "python3"
  },
  "language_info": {
   "codemirror_mode": {
    "name": "ipython",
    "version": 3
   },
   "file_extension": ".py",
   "mimetype": "text/x-python",
   "name": "python",
   "nbconvert_exporter": "python",
   "pygments_lexer": "ipython3",
   "version": "3.7.6"
  }
 },
 "nbformat": 4,
 "nbformat_minor": 2
}
